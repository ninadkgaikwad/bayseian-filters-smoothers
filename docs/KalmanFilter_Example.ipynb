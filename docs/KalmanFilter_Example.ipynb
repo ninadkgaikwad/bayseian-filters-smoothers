{
 "cells": [
  {
   "cell_type": "code",
   "execution_count": 1,
   "id": "8c49c766",
   "metadata": {},
   "outputs": [
    {
     "name": "stdout",
     "output_type": "stream",
     "text": [
      "C:\\Users\\ninad\\Dropbox (Personal)\\NinadGaikwad_PhD\\Gaikwad_Research\\Gaikwad_Research_Work\\BayesianFiltersSmoothers\\bayseian-filters-smoothers\\bayesian-filters-smoothers\n"
     ]
    }
   ],
   "source": [
    "import os\n",
    "import sys\n",
    "\n",
    "module_path = os.path.abspath(os.path.join('..'))\n",
    "\n",
    "if module_path not in sys.path:\n",
    "    sys.path.append(module_path)\n",
    "    \n",
    "print(module_path)"
   ]
  },
  {
   "cell_type": "code",
   "execution_count": 2,
   "id": "ea6a01cd",
   "metadata": {},
   "outputs": [],
   "source": [
    "import bayesian_filters_smoothers as bfs\n"
   ]
  },
  {
   "cell_type": "code",
   "execution_count": 3,
   "id": "d19b241a",
   "metadata": {},
   "outputs": [
    {
     "data": {
      "text/plain": [
       "['Extended_Kalman_Filter_Smoother',\n",
       " 'Kalman_Filter_Smoother',\n",
       " 'Unscented_Kalman_Filter_Smoother',\n",
       " '__builtins__',\n",
       " '__cached__',\n",
       " '__doc__',\n",
       " '__file__',\n",
       " '__loader__',\n",
       " '__name__',\n",
       " '__package__',\n",
       " '__path__',\n",
       " '__spec__',\n",
       " '__version__',\n",
       " 'addnum',\n",
       " 'bayesian_filters_smoothers',\n",
       " 'mt',\n",
       " 'np',\n",
       " 'os',\n",
       " 'pd',\n",
       " 'plt',\n",
       " 'subnum']"
      ]
     },
     "execution_count": 3,
     "metadata": {},
     "output_type": "execute_result"
    }
   ],
   "source": [
    "dir(bfs)\n"
   ]
  },
  {
   "cell_type": "code",
   "execution_count": 7,
   "id": "28eaff1a",
   "metadata": {},
   "outputs": [
    {
     "name": "stdout",
     "output_type": "stream",
     "text": [
      "5\n"
     ]
    }
   ],
   "source": [
    "a=bfs.subnum(10,5)\n",
    "print(a)"
   ]
  },
  {
   "cell_type": "code",
   "execution_count": 5,
   "id": "2fd447b1",
   "metadata": {},
   "outputs": [
    {
     "data": {
      "text/plain": [
       "['A',\n",
       " 'B',\n",
       " 'C',\n",
       " 'Kalman_Predict',\n",
       " 'Kalman_Smoother',\n",
       " 'Kalman_Update',\n",
       " 'P_k',\n",
       " 'Q',\n",
       " 'R',\n",
       " '__class__',\n",
       " '__delattr__',\n",
       " '__dict__',\n",
       " '__dir__',\n",
       " '__doc__',\n",
       " '__eq__',\n",
       " '__format__',\n",
       " '__ge__',\n",
       " '__getattribute__',\n",
       " '__gt__',\n",
       " '__hash__',\n",
       " '__init__',\n",
       " '__init_subclass__',\n",
       " '__le__',\n",
       " '__lt__',\n",
       " '__module__',\n",
       " '__ne__',\n",
       " '__new__',\n",
       " '__reduce__',\n",
       " '__reduce_ex__',\n",
       " '__repr__',\n",
       " '__setattr__',\n",
       " '__sizeof__',\n",
       " '__str__',\n",
       " '__subclasshook__',\n",
       " '__weakref__',\n",
       " 'm_k',\n",
       " 'set_A',\n",
       " 'set_B',\n",
       " 'set_C',\n",
       " 'set_Q',\n",
       " 'set_R']"
      ]
     },
     "execution_count": 5,
     "metadata": {},
     "output_type": "execute_result"
    }
   ],
   "source": [
    "a=bfs.Kalman_Filter_Smoother(0,0,0,0,0,0,0)\n",
    "dir(a)"
   ]
  },
  {
   "cell_type": "code",
   "execution_count": null,
   "id": "4030b73c",
   "metadata": {},
   "outputs": [],
   "source": []
  }
 ],
 "metadata": {
  "kernelspec": {
   "display_name": "Python 3 (ipykernel)",
   "language": "python",
   "name": "python3"
  },
  "language_info": {
   "codemirror_mode": {
    "name": "ipython",
    "version": 3
   },
   "file_extension": ".py",
   "mimetype": "text/x-python",
   "name": "python",
   "nbconvert_exporter": "python",
   "pygments_lexer": "ipython3",
   "version": "3.9.13"
  }
 },
 "nbformat": 4,
 "nbformat_minor": 5
}
